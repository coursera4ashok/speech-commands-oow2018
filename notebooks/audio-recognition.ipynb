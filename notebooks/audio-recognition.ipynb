{
 "cells": [
  {
   "cell_type": "markdown",
   "metadata": {},
   "source": [
    "# Audio Recognition Lab\n",
    "\n",
    "## Introduction \n"
   ]
  },
  {
   "cell_type": "code",
   "execution_count": 34,
   "metadata": {},
   "outputs": [],
   "source": [
    "import tensorflow as tf\n",
    "import pandas as pd \n",
    "import numpy as np \n",
    "import oci\n",
    "import os \n",
    "import tarfile \n",
    "import random \n",
    "import math \n",
    "import re \n",
    "import hashlib \n",
    "\n",
    "from tensorflow.contrib.framework.python.ops import audio_ops as contrib_audio\n",
    "from tensorflow.python.ops import io_ops\n",
    "from tensorflow.python.platform import gfile\n",
    "from tensorflow.python.util import compat"
   ]
  },
  {
   "cell_type": "code",
   "execution_count": 29,
   "metadata": {},
   "outputs": [],
   "source": [
    "def which_set(filename, validation_percentage, testing_percentage):\n",
    "    \"\"\"Determines which data partition the file should belong to.\n",
    "    We want to keep files in the same training, validation, or testing sets even\n",
    "    if new ones are added over time. This makes it less likely that testing\n",
    "    samples will accidentally be reused in training when long runs are restarted\n",
    "    for example. To keep this stability, a hash of the filename is taken and used\n",
    "    to determine which set it should belong to. This determination only depends on\n",
    "    the name and the set proportions, so it won't change as other files are added.\n",
    "    It's also useful to associate particular files as related (for example words\n",
    "    spoken by the same person), so anything after '_nohash_' in a filename is\n",
    "    ignored for set determination. This ensures that 'bobby_nohash_0.wav' and\n",
    "    'bobby_nohash_1.wav' are always in the same set, for example.\n",
    "    Args:\n",
    "    filename: File path of the data sample.\n",
    "    validation_percentage: How much of the data set to use for validation.\n",
    "    testing_percentage: How much of the data set to use for testing.\n",
    "    Returns:\n",
    "    String, one of 'training', 'validation', or 'testing'.\n",
    "    \"\"\"\n",
    "    \n",
    "    base_name = os.path.basename(filename)\n",
    "    # We want to ignore anything after '_nohash_' in the file name when\n",
    "    # deciding which set to put a wav in, so the data set creator has a way of\n",
    "    # grouping wavs that are close variations of each other.\n",
    "    hash_name = re.sub(r'_nohash_.*$', '', base_name)\n",
    "    # This looks a bit magical, but we need to decide whether this file should\n",
    "    # go into the training, testing, or validation sets, and we want to keep\n",
    "    # existing files in the same set even if more files are subsequently\n",
    "    # added.\n",
    "    # To do that, we need a stable way of deciding based on just the file name\n",
    "    # itself, so we do a hash of that and then use that to generate a\n",
    "    # probability value that we use to assign it.\n",
    "    hash_name_hashed = hashlib.sha1(compat.as_bytes(hash_name)).hexdigest()\n",
    "    \n",
    "    percentage_hash = ((int(hash_name_hashed, 16) %\n",
    "                      (MAX_NUM_WAVS_PER_CLASS + 1)) *\n",
    "                     (100.0 / MAX_NUM_WAVS_PER_CLASS))\n",
    "    \n",
    "    if percentage_hash < validation_percentage:\n",
    "        result = 'validation'\n",
    "    \n",
    "    elif percentage_hash < (testing_percentage + validation_percentage):\n",
    "        result = 'testing'\n",
    "    \n",
    "    else:\n",
    "        result = 'training'\n",
    "    \n",
    "    return result"
   ]
  },
  {
   "cell_type": "code",
   "execution_count": 63,
   "metadata": {},
   "outputs": [],
   "source": [
    "def prepare_words_list(wanted_words):\n",
    "    \"\"\"Prepends common tokens to the custom word list.\n",
    "    Args:\n",
    "    wanted_words: List of strings containing the custom words.\n",
    "    Returns:\n",
    "    List with the standard silence and unknown tokens added.\n",
    "    \"\"\"\n",
    "    return [SILENCE_LABEL, UNKNOWN_WORD_LABEL] + wanted_words"
   ]
  },
  {
   "cell_type": "markdown",
   "metadata": {},
   "source": [
    "# Push Data to OCI (for JR)\n",
    "\n",
    "../data/data_speech_commands_v0.02.tar.gz\n"
   ]
  },
  {
   "cell_type": "code",
   "execution_count": 10,
   "metadata": {},
   "outputs": [],
   "source": [
    "bucket_name = \"oow-2018\"\n",
    "filenames = ['data_speech_commands_v0.02.tar.gz']\n",
    "config = oci.config.from_file()\n",
    "object_storage_client = oci.object_storage.ObjectStorageClient(config)\n",
    "namespace = object_storage_client.get_namespace().data\n",
    "bucket_list = object_storage_client.list_buckets(namespace, config['compartment-id'])"
   ]
  },
  {
   "cell_type": "code",
   "execution_count": 14,
   "metadata": {},
   "outputs": [],
   "source": [
    "with open(\"../data/data_speech_commands_v0.02.tar.gz\", 'rb') as f:\n",
    "    obj = object_storage_client.put_object(namespace, bucket_name, \"data_speech_commands_v0.02.tar.gz\", f)"
   ]
  },
  {
   "cell_type": "markdown",
   "metadata": {},
   "source": [
    "# Pull Data From OCI "
   ]
  },
  {
   "cell_type": "code",
   "execution_count": 5,
   "metadata": {},
   "outputs": [],
   "source": [
    "bucket_name = \"oow-2018\"\n",
    "filenames = ['data_speech_commands_v0.02.tar.gz']\n",
    "config = oci.config.from_file()\n",
    "object_storage_client = oci.object_storage.ObjectStorageClient(config)\n",
    "namespace = object_storage_client.get_namespace().data\n",
    "bucket_list = object_storage_client.list_buckets(namespace, config['compartment-id'])\n",
    "\n",
    "if not os.path.exists(\"../data\"):  \n",
    "    os.mkdir(\"../data\")\n",
    "\n",
    "for file in filenames:\n",
    "    get_obj = object_storage_client.get_object(namespace, bucket_name, file)\n",
    "    with open(\"../data/\"+file, 'wb') as f:\n",
    "        for chunk in get_obj.data.raw.stream(1024 * 1024, decode_content=False):\n",
    "            f.write(chunk)"
   ]
  },
  {
   "cell_type": "markdown",
   "metadata": {},
   "source": [
    "# The Data "
   ]
  },
  {
   "cell_type": "code",
   "execution_count": 8,
   "metadata": {},
   "outputs": [],
   "source": [
    "tf.logging.set_verbosity(tf.logging.INFO)\n",
    "sess = tf.InteractiveSession()"
   ]
  },
  {
   "cell_type": "markdown",
   "metadata": {},
   "source": [
    "## Extract the tarfile "
   ]
  },
  {
   "cell_type": "code",
   "execution_count": 17,
   "metadata": {},
   "outputs": [],
   "source": [
    "#audio_processor = input_data.AudioProcessor(\n",
    "#      FLAGS.data_url, FLAGS.data_dir,\n",
    "#      FLAGS.silence_percentage, FLAGS.unknown_percentage,\n",
    "#      FLAGS.wanted_words.split(','), FLAGS.validation_percentage,\n",
    "#      FLAGS.testing_percentage, model_settings, FLAGS.summaries_dir)\n",
    "\n",
    "#self.data_dir = data_dir\n",
    "#    self.maybe_download_and_extract_dataset(data_url, data_dir)\n",
    "#    self.prepare_data_index(silence_percentage, unknown_percentage,\n",
    "#                            wanted_words, validation_percentage,\n",
    "#                            testing_percentage)\n",
    "#    self.prepare_background_data()\n",
    "#    self.prepare_processing_graph(model_settings, summaries_dir)\n",
    "\n",
    "data_dir = \"../data/wav/\"\n",
    "tarfile.open(\"../data/data_speech_commands_v0.02.tar.gz\", 'r:gz').extractall(data_dir)"
   ]
  },
  {
   "cell_type": "markdown",
   "metadata": {},
   "source": [
    "## Prepare the data, split, & create the labels "
   ]
  },
  {
   "cell_type": "code",
   "execution_count": 64,
   "metadata": {},
   "outputs": [],
   "source": [
    "wanted_words = ['dog', 'bed', 'bird', 'cat', 'left', 'house', 'happy', 'go']\n",
    "BACKGROUND_NOISE_DIR_NAME = \"_background_noise_\"\n",
    "validation_percentage = 10.0\n",
    "testing_percentage = 10.0\n",
    "MAX_NUM_WAVS_PER_CLASS = 2**27 - 1 \n",
    "SILENCE_LABEL = '_silence_'\n",
    "SILENCE_INDEX = 0\n",
    "UNKNOWN_WORD_LABEL = '_unknown_'\n",
    "UNKNOWN_WORD_INDEX = 1\n",
    "RANDOM_SEED = 59185\n",
    "silence_percentage = 5.0\n",
    "unknown_percentage = 5.0"
   ]
  },
  {
   "cell_type": "code",
   "execution_count": 65,
   "metadata": {},
   "outputs": [
    {
     "name": "stdout",
     "output_type": "stream",
     "text": [
      "../data/wav/*/*.wav\n"
     ]
    }
   ],
   "source": [
    "random.seed(RANDOM_SEED)\n",
    "wanted_words_index = {}\n",
    "for index, wanted_word in enumerate(wanted_words):\n",
    "    wanted_words_index[wanted_word] = index + 2\n",
    "\n",
    "data_index = {'validation': [], 'testing': [], 'training': []}\n",
    "unknown_index = {'validation': [], 'testing': [], 'training': []}\n",
    "all_words = {}\n",
    "search_path = os.path.join(data_dir, '*', '*.wav')\n",
    "print(search_path)"
   ]
  },
  {
   "cell_type": "code",
   "execution_count": 66,
   "metadata": {},
   "outputs": [],
   "source": [
    "for wav_path in gfile.Glob(search_path):\n",
    "    _, word = os.path.split(os.path.dirname(wav_path))\n",
    "    word = word.lower()\n",
    "    # Treat the '_background_noise_' folder as a special case, since we expect\n",
    "    # it to contain long audio samples we mix in to improve training.\n",
    "    if word == BACKGROUND_NOISE_DIR_NAME:\n",
    "        continue\n",
    "    all_words[word] = True\n",
    "    set_index = which_set(wav_path, validation_percentage, testing_percentage)\n",
    "    # If it's a known class, store its detail, otherwise add it to the list\n",
    "    # we'll use to train the unknown label.\n",
    "    if word in wanted_words_index:\n",
    "        data_index[set_index].append({'label': word, 'file': wav_path})\n",
    "    else:\n",
    "        unknown_index[set_index].append({'label': word, 'file': wav_path})\n",
    "\n",
    "if not all_words:\n",
    "    raise Exception('No .wavs found at ' + search_path)\n",
    "\n",
    "for index, wanted_word in enumerate(wanted_words):\n",
    "    if wanted_word not in all_words:\n",
    "        raise Exception('Expected to find ' + wanted_word +\n",
    "                        ' in labels but only found ' +\n",
    "                        ', '.join(all_words.keys()))\n",
    "# We need an arbitrary file to load as the input for the silence samples.\n",
    "# It's multiplied by zero later, so the content doesn't matter.\n",
    "silence_wav_path = data_index['training'][0]['file']"
   ]
  },
  {
   "cell_type": "code",
   "execution_count": 67,
   "metadata": {},
   "outputs": [],
   "source": [
    "for set_index in ['validation', 'testing', 'training']:\n",
    "    set_size = len(data_index[set_index])\n",
    "    silence_size = int(math.ceil(set_size * silence_percentage / 100))\n",
    "    for _ in range(silence_size):\n",
    "        data_index[set_index].append({\n",
    "            'label': SILENCE_LABEL,\n",
    "            'file': silence_wav_path\n",
    "        })\n",
    "    # Pick some unknowns to add to each partition of the data set.\n",
    "    random.shuffle(unknown_index[set_index])\n",
    "    unknown_size = int(math.ceil(set_size * unknown_percentage / 100))\n",
    "    data_index[set_index].extend(unknown_index[set_index][:unknown_size])\n",
    "# Make sure the ordering is random.\n",
    "for set_index in ['validation', 'testing', 'training']:\n",
    "     random.shuffle(data_index[set_index])\n",
    "# Prepare the rest of the result data structure.\n",
    "words_list = prepare_words_list(wanted_words)\n",
    "word_to_index = {}\n",
    "for word in all_words:\n",
    "    if word in wanted_words_index:\n",
    "        word_to_index[word] = wanted_words_index[word]\n",
    "    else:\n",
    "        word_to_index[word] = UNKNOWN_WORD_INDEX\n",
    "word_to_index[SILENCE_LABEL] = SILENCE_INDEX"
   ]
  },
  {
   "cell_type": "markdown",
   "metadata": {},
   "source": [
    "# Process the Data"
   ]
  },
  {
   "cell_type": "code",
   "execution_count": 70,
   "metadata": {},
   "outputs": [
    {
     "name": "stdout",
     "output_type": "stream",
     "text": [
      "../data/wav/_background_noise_\n"
     ]
    }
   ],
   "source": [
    "background_data = []\n",
    "background_dir = os.path.join(data_dir, BACKGROUND_NOISE_DIR_NAME)\n",
    "print(background_dir)\n",
    "#if not os.path.exists(background_dir):\n",
    "#    return background_data\n",
    "with tf.Session(graph=tf.Graph()) as sess:\n",
    "    wav_filename_placeholder = tf.placeholder(tf.string, [])\n",
    "    wav_loader = io_ops.read_file(wav_filename_placeholder)\n",
    "    wav_decoder = contrib_audio.decode_wav(wav_loader, desired_channels=1)\n",
    "    search_path = os.path.join(data_dir, BACKGROUND_NOISE_DIR_NAME,'*.wav')\n",
    "    for wav_path in gfile.Glob(search_path):\n",
    "        wav_data = sess.run(wav_decoder,\n",
    "                            feed_dict={wav_filename_placeholder: wav_path}).audio.flatten()\n",
    "    background_data.append(wav_data)\n",
    "    if not background_data:\n",
    "        raise Exception('No background wav files were found in ' + search_path)"
   ]
  },
  {
   "cell_type": "code",
   "execution_count": 79,
   "metadata": {},
   "outputs": [
    {
     "data": {
      "text/plain": [
       "'1.9.0'"
      ]
     },
     "execution_count": 79,
     "metadata": {},
     "output_type": "execute_result"
    }
   ],
   "source": [
    "tf.__version__"
   ]
  },
  {
   "cell_type": "code",
   "execution_count": null,
   "metadata": {},
   "outputs": [],
   "source": []
  },
  {
   "cell_type": "markdown",
   "metadata": {},
   "source": [
    "# JUNK ---------------------------------------------------------"
   ]
  },
  {
   "cell_type": "code",
   "execution_count": null,
   "metadata": {},
   "outputs": [],
   "source": [
    "  def prepare_processing_graph(self, model_settings, summaries_dir):\n",
    "    \"\"\"Builds a TensorFlow graph to apply the input distortions.\n",
    "    Creates a graph that loads a WAVE file, decodes it, scales the volume,\n",
    "    shifts it in time, adds in background noise, calculates a spectrogram, and\n",
    "    then builds an MFCC fingerprint from that.\n",
    "    This must be called with an active TensorFlow session running, and it\n",
    "    creates multiple placeholder inputs, and one output:\n",
    "      - wav_filename_placeholder_: Filename of the WAV to load.\n",
    "      - foreground_volume_placeholder_: How loud the main clip should be.\n",
    "      - time_shift_padding_placeholder_: Where to pad the clip.\n",
    "      - time_shift_offset_placeholder_: How much to move the clip in time.\n",
    "      - background_data_placeholder_: PCM sample data for background noise.\n",
    "      - background_volume_placeholder_: Loudness of mixed-in background.\n",
    "      - output_: Output 2D fingerprint of processed audio.\n",
    "    Args:\n",
    "      model_settings: Information about the current model being trained.\n",
    "      summaries_dir: Path to save training summary information to.\n",
    "    Raises:\n",
    "      ValueError: If the preprocessing mode isn't recognized.\n",
    "    \"\"\"\n",
    "    with tf.get_default_graph().name_scope('data'):\n",
    "      desired_samples = model_settings['desired_samples']\n",
    "      self.wav_filename_placeholder_ = tf.placeholder(\n",
    "          tf.string, [], name='wav_filename')\n",
    "      wav_loader = io_ops.read_file(self.wav_filename_placeholder_)\n",
    "      wav_decoder = contrib_audio.decode_wav(\n",
    "          wav_loader, desired_channels=1, desired_samples=desired_samples)\n",
    "      # Allow the audio sample's volume to be adjusted.\n",
    "      self.foreground_volume_placeholder_ = tf.placeholder(\n",
    "          tf.float32, [], name='foreground_volume')\n",
    "      scaled_foreground = tf.multiply(wav_decoder.audio,\n",
    "                                      self.foreground_volume_placeholder_)\n",
    "      # Shift the sample's start position, and pad any gaps with zeros.\n",
    "      self.time_shift_padding_placeholder_ = tf.placeholder(\n",
    "          tf.int32, [2, 2], name='time_shift_padding')\n",
    "      self.time_shift_offset_placeholder_ = tf.placeholder(\n",
    "          tf.int32, [2], name='time_shift_offset')\n",
    "      padded_foreground = tf.pad(\n",
    "          scaled_foreground,\n",
    "          self.time_shift_padding_placeholder_,\n",
    "          mode='CONSTANT')\n",
    "      sliced_foreground = tf.slice(padded_foreground,\n",
    "                                   self.time_shift_offset_placeholder_,\n",
    "                                   [desired_samples, -1])\n",
    "      # Mix in background noise.\n",
    "      self.background_data_placeholder_ = tf.placeholder(\n",
    "          tf.float32, [desired_samples, 1], name='background_data')\n",
    "      self.background_volume_placeholder_ = tf.placeholder(\n",
    "          tf.float32, [], name='background_volume')\n",
    "      background_mul = tf.multiply(self.background_data_placeholder_,\n",
    "                                   self.background_volume_placeholder_)\n",
    "      background_add = tf.add(background_mul, sliced_foreground)\n",
    "      background_clamp = tf.clip_by_value(background_add, -1.0, 1.0)\n",
    "      # Run the spectrogram and MFCC ops to get a 2D 'fingerprint' of the audio.\n",
    "      spectrogram = contrib_audio.audio_spectrogram(\n",
    "          background_clamp,\n",
    "          window_size=model_settings['window_size_samples'],\n",
    "          stride=model_settings['window_stride_samples'],\n",
    "          magnitude_squared=True)\n",
    "      tf.summary.image(\n",
    "          'spectrogram', tf.expand_dims(spectrogram, -1), max_outputs=1)\n",
    "      # The number of buckets in each FFT row in the spectrogram will depend on\n",
    "      # how many input samples there are in each window. This can be quite\n",
    "      # large, with a 160 sample window producing 127 buckets for example. We\n",
    "      # don't need this level of detail for classification, so we often want to\n",
    "      # shrink them down to produce a smaller result. That's what this section\n",
    "      # implements. One method is to use average pooling to merge adjacent\n",
    "      # buckets, but a more sophisticated approach is to apply the MFCC\n",
    "      # algorithm to shrink the representation.\n",
    "      if model_settings['preprocess'] == 'average':\n",
    "        self.output_ = tf.nn.pool(\n",
    "            tf.expand_dims(spectrogram, -1),\n",
    "            window_shape=[1, model_settings['average_window_width']],\n",
    "            strides=[1, model_settings['average_window_width']],\n",
    "            pooling_type='AVG',\n",
    "            padding='SAME')\n",
    "        tf.summary.image('shrunk_spectrogram', self.output_, max_outputs=1)\n",
    "      elif model_settings['preprocess'] == 'mfcc':\n",
    "        self.output_ = contrib_audio.mfcc(\n",
    "            spectrogram,\n",
    "            wav_decoder.sample_rate,\n",
    "            dct_coefficient_count=model_settings['fingerprint_width'])\n",
    "        tf.summary.image(\n",
    "            'mfcc', tf.expand_dims(self.output_, -1), max_outputs=1)\n",
    "      else:\n",
    "        raise ValueError('Unknown preprocess mode \"%s\" (should be \"mfcc\" or'\n",
    "                         ' \"average\")' % (model_settings['preprocess']))\n",
    "\n",
    "      # Merge all the summaries and write them out to /tmp/retrain_logs (by\n",
    "      # default)\n",
    "      self.merged_summaries_ = tf.summary.merge_all(scope='data')\n",
    "      self.summary_writer_ = tf.summary.FileWriter(summaries_dir + '/data',\n",
    "                                                   tf.get_default_graph())"
   ]
  },
  {
   "cell_type": "code",
   "execution_count": null,
   "metadata": {},
   "outputs": [],
   "source": [
    "model_settings = models.prepare_model_settings(\n",
    "      len(input_data.prepare_words_list(FLAGS.wanted_words.split(','))),\n",
    "      FLAGS.sample_rate, FLAGS.clip_duration_ms, FLAGS.window_size_ms,\n",
    "      FLAGS.window_stride_ms, FLAGS.feature_bin_count, FLAGS.preprocess)"
   ]
  },
  {
   "cell_type": "code",
   "execution_count": null,
   "metadata": {},
   "outputs": [],
   "source": [
    "  model_settings = models.prepare_model_settings(\n",
    "      len(input_data.prepare_words_list(FLAGS.wanted_words.split(','))),\n",
    "      FLAGS.sample_rate, FLAGS.clip_duration_ms, FLAGS.window_size_ms,\n",
    "      FLAGS.window_stride_ms, FLAGS.feature_bin_count, FLAGS.preprocess)\n",
    "\n",
    "  fingerprint_size = model_settings['fingerprint_size']\n",
    "  label_count = model_settings['label_count']\n",
    "  time_shift_samples = int((FLAGS.time_shift_ms * FLAGS.sample_rate) / 1000)"
   ]
  },
  {
   "cell_type": "code",
   "execution_count": null,
   "metadata": {},
   "outputs": [],
   "source": [
    "# The Model "
   ]
  },
  {
   "cell_type": "code",
   "execution_count": null,
   "metadata": {},
   "outputs": [],
   "source": []
  },
  {
   "cell_type": "code",
   "execution_count": null,
   "metadata": {},
   "outputs": [],
   "source": [
    "# Training the Model "
   ]
  },
  {
   "cell_type": "code",
   "execution_count": null,
   "metadata": {},
   "outputs": [],
   "source": [
    "# Results "
   ]
  },
  {
   "cell_type": "code",
   "execution_count": null,
   "metadata": {},
   "outputs": [],
   "source": [
    "# Deployment "
   ]
  }
 ],
 "metadata": {
  "kernelspec": {
   "display_name": "Python 3",
   "language": "python",
   "name": "python3"
  },
  "language_info": {
   "codemirror_mode": {
    "name": "ipython",
    "version": 3
   },
   "file_extension": ".py",
   "mimetype": "text/x-python",
   "name": "python",
   "nbconvert_exporter": "python",
   "pygments_lexer": "ipython3",
   "version": "3.6.5"
  }
 },
 "nbformat": 4,
 "nbformat_minor": 2
}
