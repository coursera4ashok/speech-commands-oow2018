{
 "cells": [
  {
   "cell_type": "markdown",
   "metadata": {},
   "source": [
    "![banner](https://user-images.githubusercontent.com/5395649/46774810-22395980-ccb9-11e8-8f1a-535769d657ec.png)"
   ]
  },
  {
   "cell_type": "markdown",
   "metadata": {},
   "source": [
    "# Speech Command Recognition Task with Keras \n",
    "\n",
    "In this notebook, we will train a simple convolutional neural network (CNN) to recognize utterances of different words. "
   ]
  },
  {
   "cell_type": "code",
   "execution_count": 37,
   "metadata": {
    "collapsed": false
   },
   "outputs": [],
   "source": [
    "import keras \n",
    "import tensorflow as tf\n",
    "import numpy as np\n",
    "import librosa\n",
    "import os \n",
    "import hashlib \n",
    "import re\n",
    "import pandas as pd \n",
    "import IPython.display as ipd\n",
    "from sklearn.metrics import confusion_matrix\n",
    "from tqdm import tqdm \n",
    "import pickle as pkl \n",
    "from seaborn import heatmap \n",
    "\n",
    "#from preprocess import *\n",
    "from keras.models import Sequential\n",
    "from keras.layers import Dense, Dropout, Flatten, Conv2D, MaxPooling2D\n",
    "from keras.utils import to_categorical"
   ]
  },
  {
   "cell_type": "markdown",
   "metadata": {},
   "source": [
    "First, let's take a look at the different library versions we will be using in this notebook.\n",
    "\n",
    "[librosa](https://librosa.github.io/librosa/) is an interesting python library for audio analysis. The paper describing the library can be found [here](http://conference.scipy.org/proceedings/scipy2015/pdfs/brian_mcfee.pdf)."
   ]
  },
  {
   "cell_type": "code",
   "execution_count": 21,
   "metadata": {
    "collapsed": false
   },
   "outputs": [
    {
     "name": "stdout",
     "output_type": "stream",
     "text": [
      "1.9.0 2.0.8 0.6.2 0.20.3\n"
     ]
    }
   ],
   "source": [
    "print(tf.__version__, keras.__version__, librosa.__version__, pd.__version__)"
   ]
  },
  {
   "cell_type": "markdown",
   "metadata": {},
   "source": [
    "# Before we get started... \n",
    "\n",
    "* **If you are unfamiliar with signal processing in general, we recommend you review the notebook `1-intro-to-audio-data.ipynb`. To run this notebook, you'll need to download the raw data from Oracle Cloud Infrastructure Object Storage. Execute the shell script `get-data-from-oci.sh` and change the directory where you want the data to be stored on your drive. **\n",
    "\n",
    "\n",
    "* You don't need the raw data to run this notebook. You will be able to load a pre-processed dataset that is stored in the git repo. This dataset will work for all default parameters provided in this notebook. \n",
    "\n",
    "Let us define some variables that will be used throughout the notebook. \n",
    "\n",
    "* `data_dir` points to the `wav` folder of the dataset. On the platform, this means `/home/datascience/data/`.\n",
    "* `MAX_NUM_WAVS_PER_CLASS` is the maximum number of audio clip examples per word class. Leave it as is for now.\n",
    "\n",
    "## A few words on the dataset \n",
    "\n",
    "The dataset we use is the [Speech Commands Dataset](https://arxiv.org/abs/1804.03209). This dataset includes 105k utterances of 35 words. Each word has its corresponding folder containing between 1k and 4k examples. In total, **over 2K different speakers were recorded**. Each clip lasts 1 second at a sampling rate of 16 kHz. The uncompressed data take about 4Gb on disk. \n",
    "\n",
    "The dataset is licensed under the [Creative Commons BY 4.0 license](https://creativecommons.org/licenses/by/4.0/). See the LICENSE file in the dataset folder for full details. Its original location was at\n",
    "[http://download.tensorflow.org/data/speech_commands_v0.02.tar.gz](http://download.tensorflow.org/data/speech_commands_v0.02.tar.gz)"
   ]
  },
  {
   "cell_type": "code",
   "execution_count": 22,
   "metadata": {
    "collapsed": false
   },
   "outputs": [],
   "source": [
    "# the root directory of the dataset. If you are running this notebook on the Platform, this\n",
    "# folder should be /home/datascience/data/\n",
    "data_dir = '/home/datascience/data/'\n",
    "\n",
    "MAX_NUM_WAVS_PER_CLASS = 2**27 - 1  # ~134M\n",
    "\n",
    "# Training, validation and testing data split. An 80-10-10% split is standard. \n",
    "training_fraction = 80.0\n",
    "validation_fraction = 10.0\n",
    "testing_fraction = 10.0 \n",
    "\n",
    "# If you have not downloaded the original dataset and you want to \n",
    "# use the pre-processed, transformed dataset, set the flag \"list_available_words\" to False\n",
    "list_available_words = False \n",
    "\n",
    "if list_available_words: \n",
    "    # Lets find what words are available for us to classify: \n",
    "    words_available = [ d for d in os.listdir(data_dir) \n",
    "                   if os.path.isdir(os.path.join(data_dir, d)) ] \n",
    "\n",
    "    # This is the list of available utterances one can use in their classifier\n",
    "    print(words_available)"
   ]
  },
  {
   "cell_type": "markdown",
   "metadata": {},
   "source": [
    "For this particular model, **we will train a classifier whose purpose will be to \n",
    "classify utterances of the words \"right\", \"eight\", \"cat\"**"
   ]
  },
  {
   "cell_type": "code",
   "execution_count": 23,
   "metadata": {
    "collapsed": true
   },
   "outputs": [],
   "source": [
    "words_selected = ['right', 'eight', 'cat']"
   ]
  },
  {
   "cell_type": "markdown",
   "metadata": {},
   "source": [
    "# Build a training, validation and testing sets\n",
    "\n",
    "In the cells below, we build the training, validation, and training datasets that will be used to train the CNN model. \n",
    "We recommend that you load the pre-processed data. It takes a while to compute the MFCCs for these sound clips. **The pre-processed, feature-extracted data was generated for words (`right`, `eight`, `cat`) only.** If you want to use different words, you need to download the raw, original dataset.  "
   ]
  },
  {
   "cell_type": "code",
   "execution_count": 24,
   "metadata": {
    "collapsed": false
   },
   "outputs": [
    {
     "name": "stdout",
     "output_type": "stream",
     "text": [
      "{'eight': 1, 'right': 0, 'cat': 2}\n"
     ]
    }
   ],
   "source": [
    "# Create the mapping between index for one-hot encoding and the class label:\n",
    "class_to_int = {label:i for i, label in enumerate(words_selected)}\n",
    "print(class_to_int)\n",
    "\n",
    "# Save that lookup dictionary to disk: \n",
    "pkl.dump(class_to_int, open('./class_label_lookup.pkl','wb'))"
   ]
  },
  {
   "cell_type": "code",
   "execution_count": 25,
   "metadata": {
    "collapsed": true
   },
   "outputs": [],
   "source": [
    "# Either load the processed and feature-extracted dataset or generate your own. \n",
    "# Set this value to True unless you have downloaded the raw data locally using the shell script. \n",
    "\n",
    "load_preprocessed_data = True\n",
    "\n",
    "if load_preprocessed_data: \n",
    "    df = pkl.load(open('../data/processed_data.pkl','rb'))\n",
    "else: \n",
    "    tqdm.pandas()\n",
    "    df = pd.DataFrame(columns=['filename','label','sample'])\n",
    "\n",
    "    for w in words_selected: \n",
    "        files = [ f for f in os.listdir(data_dir + w) if f[-4:] == '.wav' ]\n",
    "        labels = [ w for f in files]\n",
    "        sample = [ which_set(f, validation_fraction, testing_fraction) for f in files ]\n",
    "        tmp = pd.DataFrame({'filename':files, 'label':labels, 'sample':sample})\n",
    "        df = df.append(tmp, ignore_index=True)\n",
    "   \n",
    "    # adding the full path, mfcc data and class label mapping \n",
    "    df['full_path'] = data_dir + df['label'] + \"/\" + df['filename']\n",
    "    df['mfcc'] = df['full_path'].progress_apply(lambda x: data_processing(x))\n",
    "    df['y_hot'] = df['label'].map(class_to_int)\n",
    "    \n",
    "    # save data to disk: \n",
    "    df.to_pickle('../data/processed_data.pkl')"
   ]
  },
  {
   "cell_type": "code",
   "execution_count": 26,
   "metadata": {
    "collapsed": false
   },
   "outputs": [
    {
     "data": {
      "text/html": [
       "<div>\n",
       "<style>\n",
       "    .dataframe thead tr:only-child th {\n",
       "        text-align: right;\n",
       "    }\n",
       "\n",
       "    .dataframe thead th {\n",
       "        text-align: left;\n",
       "    }\n",
       "\n",
       "    .dataframe tbody tr th {\n",
       "        vertical-align: top;\n",
       "    }\n",
       "</style>\n",
       "<table border=\"1\" class=\"dataframe\">\n",
       "  <thead>\n",
       "    <tr style=\"text-align: right;\">\n",
       "      <th></th>\n",
       "      <th>filename</th>\n",
       "      <th>label</th>\n",
       "      <th>sample</th>\n",
       "      <th>full_path</th>\n",
       "      <th>mfcc</th>\n",
       "      <th>y_hot</th>\n",
       "    </tr>\n",
       "  </thead>\n",
       "  <tbody>\n",
       "    <tr>\n",
       "      <th>0</th>\n",
       "      <td>1b88bf70_nohash_0.wav</td>\n",
       "      <td>right</td>\n",
       "      <td>training</td>\n",
       "      <td>/home/datascience/data/right/1b88bf70_nohash_0...</td>\n",
       "      <td>[[-433.3795378509684, -434.2466677165984, -436...</td>\n",
       "      <td>0</td>\n",
       "    </tr>\n",
       "    <tr>\n",
       "      <th>1</th>\n",
       "      <td>b12bef84_nohash_1.wav</td>\n",
       "      <td>right</td>\n",
       "      <td>training</td>\n",
       "      <td>/home/datascience/data/right/b12bef84_nohash_1...</td>\n",
       "      <td>[[-395.73158891078725, -374.81060233119285, -3...</td>\n",
       "      <td>0</td>\n",
       "    </tr>\n",
       "    <tr>\n",
       "      <th>2</th>\n",
       "      <td>05b2db80_nohash_1.wav</td>\n",
       "      <td>right</td>\n",
       "      <td>training</td>\n",
       "      <td>/home/datascience/data/right/05b2db80_nohash_1...</td>\n",
       "      <td>[[-265.1568901743038, -266.41782567801494, -27...</td>\n",
       "      <td>0</td>\n",
       "    </tr>\n",
       "    <tr>\n",
       "      <th>3</th>\n",
       "      <td>b66f4f93_nohash_5.wav</td>\n",
       "      <td>right</td>\n",
       "      <td>training</td>\n",
       "      <td>/home/datascience/data/right/b66f4f93_nohash_5...</td>\n",
       "      <td>[[-549.6284243645459, -551.6706347878757, -558...</td>\n",
       "      <td>0</td>\n",
       "    </tr>\n",
       "    <tr>\n",
       "      <th>4</th>\n",
       "      <td>750e3e75_nohash_0.wav</td>\n",
       "      <td>right</td>\n",
       "      <td>validation</td>\n",
       "      <td>/home/datascience/data/right/750e3e75_nohash_0...</td>\n",
       "      <td>[[-513.6241339519378, -511.58181167935845, -51...</td>\n",
       "      <td>0</td>\n",
       "    </tr>\n",
       "  </tbody>\n",
       "</table>\n",
       "</div>"
      ],
      "text/plain": [
       "                filename  label      sample  \\\n",
       "0  1b88bf70_nohash_0.wav  right    training   \n",
       "1  b12bef84_nohash_1.wav  right    training   \n",
       "2  05b2db80_nohash_1.wav  right    training   \n",
       "3  b66f4f93_nohash_5.wav  right    training   \n",
       "4  750e3e75_nohash_0.wav  right  validation   \n",
       "\n",
       "                                           full_path  \\\n",
       "0  /home/datascience/data/right/1b88bf70_nohash_0...   \n",
       "1  /home/datascience/data/right/b12bef84_nohash_1...   \n",
       "2  /home/datascience/data/right/05b2db80_nohash_1...   \n",
       "3  /home/datascience/data/right/b66f4f93_nohash_5...   \n",
       "4  /home/datascience/data/right/750e3e75_nohash_0...   \n",
       "\n",
       "                                                mfcc  y_hot  \n",
       "0  [[-433.3795378509684, -434.2466677165984, -436...      0  \n",
       "1  [[-395.73158891078725, -374.81060233119285, -3...      0  \n",
       "2  [[-265.1568901743038, -266.41782567801494, -27...      0  \n",
       "3  [[-549.6284243645459, -551.6706347878757, -558...      0  \n",
       "4  [[-513.6241339519378, -511.58181167935845, -51...      0  "
      ]
     },
     "execution_count": 26,
     "metadata": {},
     "output_type": "execute_result"
    }
   ],
   "source": [
    "df.head()"
   ]
  },
  {
   "cell_type": "code",
   "execution_count": 43,
   "metadata": {
    "collapsed": false
   },
   "outputs": [
    {
     "data": {
      "image/png": "[encoded data removed]",
      "text/plain": [
       "<matplotlib.figure.Figure at 0x7f93900df780>"
      ]
     },
     "metadata": {},
     "output_type": "display_data"
    }
   ],
   "source": [
    "# Let's display the content of the column \"mfcc\". This column \n",
    "# contains the Mel-frequency Cepstral Coefficients (MFCC). \n",
    "# It's basically a power spectrum. \n",
    "\n",
    "def display_spectrogram(df, id): \n",
    "    \"\"\"Given the index value of the example in the pandas dataframe \n",
    "    this function will display a 2-D heatmap of the MFCC spectrum. \n",
    "    \n",
    "    Args: \n",
    "      - df (pd.DataFrame) : Dataframe of interest. \n",
    "      - id (integer) : row index of the example of interest \n",
    "    \"\"\"\n",
    "    ax = heatmap(df.ix[id]['mfcc'], center=-150, cmap=\"YlGnBu\")\n",
    "    ax.set(xlabel=\"time chunk\", ylabel=\"mfcc\") \n",
    "\n",
    "# We will take a look at the first example in the t\n",
    "display_spectrogram(df, 0)"
   ]
  },
  {
   "cell_type": "code",
   "execution_count": 11,
   "metadata": {
    "collapsed": false
   },
   "outputs": [
    {
     "data": {
      "text/plain": [
       "training      7709\n",
       "testing        998\n",
       "validation     889\n",
       "Name: sample, dtype: int64"
      ]
     },
     "execution_count": 11,
     "metadata": {},
     "output_type": "execute_result"
    }
   ],
   "source": [
    "# Sanity check: counts for each sample category. \n",
    "df['sample'].value_counts()"
   ]
  },
  {
   "cell_type": "markdown",
   "metadata": {},
   "source": [
    "# Splitting into training and testing sets\n",
    "\n",
    "Below we split the datasets by training, validation and evaluation (test) samples. \n",
    "We will use the mfcc values as the covariates/features for each clip. "
   ]
  },
  {
   "cell_type": "code",
   "execution_count": 44,
   "metadata": {
    "collapsed": true
   },
   "outputs": [],
   "source": [
    "# Training dataset: \n",
    "X_train = df[df['sample'] == \"training\"]['mfcc'].values\n",
    "Y_train = df[df['sample'] == \"training\"]['y_hot'].values\n",
    "\n",
    "# Validation dataset: \n",
    "X_valid = df[df['sample'] == \"validation\"]['mfcc'].values\n",
    "Y_valid = df[df['sample'] == \"validation\"]['y_hot'].values\n",
    "\n",
    "# Evaluation dataset: \n",
    "X_test = df[df['sample'] == \"testing\"]['mfcc'].values\n",
    "Y_test = df[df['sample'] == \"testing\"]['y_hot'].values "
   ]
  },
  {
   "cell_type": "code",
   "execution_count": 45,
   "metadata": {
    "collapsed": true
   },
   "outputs": [],
   "source": [
    "# Reshaping the MFCCs  \n",
    "Xtrain = np.asarray([ sub.reshape(20,32,1) for sub in X_train ])\n",
    "Xvalid = np.asarray([ sub.reshape(20,32,1) for sub in X_valid ])\n",
    "Xtest = np.asarray([ sub.reshape(20,32,1) for sub in X_test ])\n",
    "\n",
    "# Converting the index values to categorical values using the Keras to_categorical() function \n",
    "Ytrain = to_categorical(Y_train)\n",
    "Yvalid = to_categorical(Y_valid)\n",
    "Ytest = to_categorical(Y_test)"
   ]
  },
  {
   "cell_type": "code",
   "execution_count": 46,
   "metadata": {
    "collapsed": false
   },
   "outputs": [
    {
     "data": {
      "text/plain": [
       "((7709, 20, 32, 1), (7709, 3), (998, 20, 32, 1), (998, 3))"
      ]
     },
     "execution_count": 46,
     "metadata": {},
     "output_type": "execute_result"
    }
   ],
   "source": [
    "# let's make sure we have the right dimensions for all these arrays: \n",
    "Xtrain.shape, Ytrain.shape, Xtest.shape, Ytest.shape"
   ]
  },
  {
   "cell_type": "markdown",
   "metadata": {},
   "source": [
    "Congratulations! You are now ready to train the Convolutional Neural Network (CNN) model. "
   ]
  },
  {
   "cell_type": "markdown",
   "metadata": {},
   "source": [
    "# Training the CNN model \n",
    "\n",
    "I adopted a slight variation of the [Sainath & Parada (2015)](https://static.googleusercontent.com/media/research.google.com/en//pubs/archive/43969.pdf) `cnn-trad-fpool3` model for the purpose of this demo. I invite the reader to read this paper for more details. \n",
    "\n",
    "This is a simple model that performs well. I adopted convolution kernels of equal size in both frequency and time space. I removed the linear low-rank layer. I also used fewer filters and the kernel size is smaller. \n",
    "\n",
    "I invite the reader to modify the network architecture and try different approaches. "
   ]
  },
  {
   "cell_type": "code",
   "execution_count": 47,
   "metadata": {
    "collapsed": false
   },
   "outputs": [],
   "source": [
    "# Convolutional Neural Network (CNN) Model Definition:  \n",
    "\n",
    "model = Sequential()\n",
    "\n",
    "# Convolution layer (4x8), 32 filters \n",
    "model.add(Conv2D(32, kernel_size=(4, 8), activation='relu', input_shape=(20, 32, 1)))\n",
    "model.add(MaxPooling2D(pool_size=(2, 2)))\n",
    "model.add(Dropout(0.25))\n",
    "\n",
    "# Convolution layer (2x4), 16 filters \n",
    "model.add(Conv2D(16, kernel_size=(2, 4), activation='relu'))\n",
    "model.add(MaxPooling2D(pool_size=(2, 2)))\n",
    "model.add(Dropout(0.25))\n",
    "\n",
    "model.add(Flatten())\n",
    "# DNN FC layer: \n",
    "model.add(Dense(128, activation='relu'))\n",
    "model.add(Dropout(0.25))\n",
    "# softmax layer (3 words)\n",
    "model.add(Dense(len(words_selected), activation='softmax'))\n",
    "model.compile(loss=keras.losses.categorical_crossentropy,\n",
    "              optimizer=keras.optimizers.Adadelta(),\n",
    "              metrics=['accuracy'])"
   ]
  },
  {
   "cell_type": "markdown",
   "metadata": {},
   "source": [
    "Let's fit the model. \n",
    "\n",
    "Ten epochs is good enough to start. It will give you an accuracy superior to 0.90. I invite the reader to train the models for 100+ epochs."
   ]
  },
  {
   "cell_type": "code",
   "execution_count": 48,
   "metadata": {
    "collapsed": false
   },
   "outputs": [
    {
     "name": "stdout",
     "output_type": "stream",
     "text": [
      "Train on 7709 samples, validate on 889 samples\n",
      "Epoch 1/10\n",
      "7709/7709 [==============================] - 13s - loss: 3.2350 - acc: 0.4412 - val_loss: 0.9502 - val_acc: 0.5816\n",
      "Epoch 2/10\n",
      "7709/7709 [==============================] - 13s - loss: 0.9969 - acc: 0.5469 - val_loss: 0.8502 - val_acc: 0.6423\n",
      "Epoch 3/10\n",
      "7709/7709 [==============================] - 13s - loss: 0.8564 - acc: 0.6166 - val_loss: 0.7649 - val_acc: 0.6952\n",
      "Epoch 4/10\n",
      "7709/7709 [==============================] - 13s - loss: 0.7581 - acc: 0.6666 - val_loss: 0.6492 - val_acc: 0.7672\n",
      "Epoch 5/10\n",
      "7709/7709 [==============================] - 13s - loss: 0.6485 - acc: 0.7266 - val_loss: 0.5170 - val_acc: 0.8043\n",
      "Epoch 6/10\n",
      "7709/7709 [==============================] - 13s - loss: 0.5579 - acc: 0.7757 - val_loss: 0.3840 - val_acc: 0.8684\n",
      "Epoch 7/10\n",
      "7709/7709 [==============================] - 13s - loss: 0.4702 - acc: 0.8115 - val_loss: 0.2777 - val_acc: 0.9055\n",
      "Epoch 8/10\n",
      "7709/7709 [==============================] - 13s - loss: 0.4227 - acc: 0.8379 - val_loss: 0.2445 - val_acc: 0.9235\n",
      "Epoch 9/10\n",
      "7709/7709 [==============================] - 13s - loss: 0.3902 - acc: 0.8495 - val_loss: 0.2422 - val_acc: 0.9201\n",
      "Epoch 10/10\n",
      "7709/7709 [==============================] - 13s - loss: 0.3591 - acc: 0.8598 - val_loss: 0.2058 - val_acc: 0.9269\n"
     ]
    },
    {
     "data": {
      "text/plain": [
       "<keras.callbacks.History at 0x7f9390054d30>"
      ]
     },
     "execution_count": 48,
     "metadata": {},
     "output_type": "execute_result"
    }
   ],
   "source": [
    "# Fitting the model: \n",
    "\n",
    "model.fit(Xtrain, Ytrain, \n",
    "          batch_size=100, \n",
    "          epochs=10, \n",
    "          verbose=1, \n",
    "          shuffle=True,\n",
    "          validation_data=(Xvalid, Yvalid))"
   ]
  },
  {
   "cell_type": "markdown",
   "metadata": {},
   "source": [
    "# Model Evaluation"
   ]
  },
  {
   "cell_type": "code",
   "execution_count": 49,
   "metadata": {
    "collapsed": false
   },
   "outputs": [
    {
     "name": "stdout",
     "output_type": "stream",
     "text": [
      "960/998 [===========================>..] - ETA: 0sloss = 0.2380255153757298, accuracy = 0.9188376752312533\n"
     ]
    }
   ],
   "source": [
    "# Evaluating the model: \n",
    "\n",
    "loss, accuracy = model.evaluate(x=Xtest, y=Ytest)\n",
    "print(\"loss = {}, accuracy = {}\".format(loss, accuracy))"
   ]
  },
  {
   "cell_type": "code",
   "execution_count": 50,
   "metadata": {
    "collapsed": false
   },
   "outputs": [
    {
     "name": "stdout",
     "output_type": "stream",
     "text": [
      "928/998 [==========================>...] - ETA: 0s"
     ]
    },
    {
     "data": {
      "text/plain": [
       "[<matplotlib.text.Text at 0x7f93906b7b00>,\n",
       " <matplotlib.text.Text at 0x7f93906b2c18>]"
      ]
     },
     "execution_count": 50,
     "metadata": {},
     "output_type": "execute_result"
    },
    {
     "data": {
      "image/png": "[encoded data removed]",
      "text/plain": [
       "<matplotlib.figure.Figure at 0x7f9390636630>"
      ]
     },
     "metadata": {},
     "output_type": "display_data"
    }
   ],
   "source": [
    "# Compute and plot Confusion matrix \n",
    "\n",
    "Ypred = model.predict_classes(Xtest)\n",
    "cm = confusion_matrix(Y_test, Ypred, labels=[0,1,2])#, labels = words_selected)\n",
    "\n",
    "ax = heatmap(cm, annot=True, fmt='d', \n",
    "                     linewidths=.2, \n",
    "                     xticklabels=words_selected, \n",
    "                     yticklabels=words_selected)\n",
    "\n",
    "ax.set(xlabel='predicted',ylabel='observed')"
   ]
  },
  {
   "cell_type": "markdown",
   "metadata": {},
   "source": [
    "# Save the model to disk "
   ]
  },
  {
   "cell_type": "code",
   "execution_count": 51,
   "metadata": {
    "collapsed": true
   },
   "outputs": [],
   "source": [
    "model.save('./model1.hdf5')"
   ]
  },
  {
   "cell_type": "markdown",
   "metadata": {},
   "source": [
    "# What Next?\n",
    "\n",
    "You can experiment and expand on the model trained in this notebook. Here are a few areas to explore: \n",
    "\n",
    "* increase the number of classes. Try to classify 10+ words \n",
    "* add noise to your examples. Create a more robust classifier. \n",
    "* try different CNN architectures \n",
    "* include an \"other\" class\n",
    "* include a \"silence\" class"
   ]
  },
  {
   "cell_type": "markdown",
   "metadata": {},
   "source": [
    "# References \n",
    "\n",
    "* Warden, P. 2018, \"Speech Commands: A Dataset for Limited-Vocabulary Speech Recognition\", [arXiv:1804.03209](https://arxiv.org/abs/1804.03209)\n",
    "* Sainath, T.N., Parada, C. 2015 [\"Convolutional Neural Networks for Small-footprint Keyword Spotting\"]( https://static.googleusercontent.com/media/research.google.com/en//pubs/archive/43969.pdf)"
   ]
  },
  {
   "cell_type": "markdown",
   "metadata": {},
   "source": [
    "# Appendix"
   ]
  },
  {
   "cell_type": "markdown",
   "metadata": {},
   "source": [
    "Here's the network architecture for reference. \n",
    "\n",
    "![network-architecture](https://user-images.githubusercontent.com/5395649/46776515-cb378280-ccc0-11e8-8dcb-84db4156e981.png)"
   ]
  },
  {
   "cell_type": "markdown",
   "metadata": {},
   "source": [
    "Below is a function I took directly from the `README` file that came with the dataset. This is a very useful function that ensures testing/validation data does not make its way in the training dataset. We will be using it to assign the sample (training, validation, testing) to which each audio clip belongs. "
   ]
  },
  {
   "cell_type": "code",
   "execution_count": 6,
   "metadata": {
    "collapsed": true
   },
   "outputs": [],
   "source": [
    "# From Warden (2018) : https://arxiv.org/abs/1804.03209\n",
    "\n",
    "def which_set(filename, validation_percentage, testing_percentage):\n",
    "    \"\"\"Determines which data partition the file should belong to.\n",
    "    We want to keep files in the same training, validation, or testing sets even\n",
    "    if new ones are added over time. This makes it less likely that testing\n",
    "    samples will accidentally be reused in training when long runs are restarted \n",
    "    for example. To keep this stability, a hash of the filename is taken and used \n",
    "    to determine which set it should belong to. This determination only depends on \n",
    "    the name and the set proportions, so it won't change as other files are added.\n",
    "    \n",
    "    It's also useful to associate particular files as related (for example words \n",
    "    spoken by the same person), so anything after '_nohash_' in a filename is \n",
    "    ignored for set determination. This ensures that 'bobby_nohash_0.wav' and \n",
    "    'bobby_nohash_1.wav' are always in the same set, for example.\n",
    "    \n",
    "    Args\n",
    "    filename: File path of the data sample.\n",
    "    validation_percentage: How much of the data set to use for validation.\n",
    "    testing_percentage: How much of the data set to use for testing.\n",
    "    \n",
    "    Returns:\n",
    "    String, one of 'training', 'validation', or 'testing'.\n",
    "    \"\"\"\n",
    "    base_name = os.path.basename(filename)\n",
    "    #print(base_name)\n",
    "    # We want to ignore anything after '_nohash_' in the file name when\n",
    "    # deciding which set to put a wav in, so the data set creator has a way of\n",
    "    # grouping wavs that are close variations of each other.\n",
    "    hash_name = re.sub(r'_nohash_.*$', '', base_name).encode('utf-8')\n",
    "    # This looks a bit magical, but we need to decide whether this file should\n",
    "    # go into the training, testing, or validation sets, and we want to keep\n",
    "    # existing files in the same set even if more files are subsequently\n",
    "    # added.\n",
    "    # To do that, we need a stable way of deciding based on just the file name\n",
    "    # itself, so we do a hash of that and then use that to generate a\n",
    "    # probability value that we use to assign it. \n",
    "    hash_name_hashed = hashlib.sha1(hash_name).hexdigest() \n",
    "    percentage_hash = ((int(hash_name_hashed, 16) %\n",
    "                      (MAX_NUM_WAVS_PER_CLASS + 1)) *\n",
    "                     (100.0 / MAX_NUM_WAVS_PER_CLASS)) \n",
    "    if percentage_hash < validation_percentage:\n",
    "        result = 'validation'\n",
    "    elif percentage_hash < (testing_percentage + validation_percentage):\n",
    "        result = 'testing'\n",
    "    else:\n",
    "        result = 'training'\n",
    "    return result"
   ]
  },
  {
   "cell_type": "markdown",
   "metadata": {},
   "source": [
    "Below is the data transformation that we apply to each audio clip before feeding the clip to the CNN model. Take a look at the [intro notebook](1-intro-to-audio-data.ipynb) where we discuss spectrogram and MFCCs. "
   ]
  },
  {
   "cell_type": "code",
   "execution_count": 7,
   "metadata": {
    "collapsed": true
   },
   "outputs": [],
   "source": [
    "def data_processing(filepath, max_len=32):\n",
    "    \"\"\" Compute MFCCs for a given clip\n",
    "    \n",
    "    Args: \n",
    "        - filepath (str) : path of the wav file to analyze. \n",
    "        - max_len (int) : \n",
    "        \n",
    "    Returns: \n",
    "        - Mel-frequency cepstral coefficients array. \n",
    "    \"\"\"\n",
    "    \n",
    "    # Here we are loading the audio clip using librosa.\n",
    "    waveform, sampling_rate = librosa.load(filepath, mono=True, sr=None)\n",
    "    # compute the Mel-frequency cepstral coefficients. n_mfcc \n",
    "    # represents the number of coefficients to return. \n",
    "    mfcc = librosa.feature.mfcc(waveform, sr=16000, n_mfcc=20)\n",
    "    \n",
    "    # Not all clips have the same duration. Padding along the time dimension to \n",
    "    # ensure each clip has the same dimensions. Each image fed to the CNN needs \n",
    "    # to have the same dimensions. \n",
    "    mfcc = np.pad(mfcc, pad_width=((0, 0),(0, max_len-mfcc.shape[1])), mode='constant')\n",
    "    return mfcc "
   ]
  }
 ],
 "metadata": {
  "anaconda-cloud": {},
  "kernelspec": {
   "display_name": "Python [default]",
   "language": "python",
   "name": "python3"
  },
  "language_info": {
   "codemirror_mode": {
    "name": "ipython",
    "version": 3
   },
   "file_extension": ".py",
   "mimetype": "text/x-python",
   "name": "python",
   "nbconvert_exporter": "python",
   "pygments_lexer": "ipython3",
   "version": "3.5.2"
  },
  "varInspector": {
   "cols": {
    "lenName": 16,
    "lenType": 16,
    "lenVar": 40
   },
   "kernels_config": {
    "python": {
     "delete_cmd_postfix": "",
     "delete_cmd_prefix": "del ",
     "library": "var_list.py",
     "varRefreshCmd": "print(var_dic_list())"
    },
    "r": {
     "delete_cmd_postfix": ") ",
     "delete_cmd_prefix": "rm(",
     "library": "var_list.r",
     "varRefreshCmd": "cat(var_dic_list()) "
    }
   },
   "types_to_exclude": [
    "module",
    "function",
    "builtin_function_or_method",
    "instance",
    "_Feature"
   ],
   "window_display": false
  }
 },
 "nbformat": 4,
 "nbformat_minor": 2
}
